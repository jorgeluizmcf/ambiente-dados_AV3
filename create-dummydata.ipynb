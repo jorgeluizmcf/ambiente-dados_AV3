{
 "cells": [
  {
   "cell_type": "code",
   "execution_count": 1,
   "metadata": {},
   "outputs": [],
   "source": [
    "import pandas as pd"
   ]
  },
  {
   "cell_type": "code",
   "execution_count": 4,
   "metadata": {},
   "outputs": [
    {
     "data": {
      "text/plain": [
       "Index(['app_id', 'title', 'release_date', 'genres', 'categories', 'developer',\n",
       "       'publisher', 'original_price', 'discount_percentage',\n",
       "       'discounted_price', 'dlc_available', 'age_rating', 'content_descriptor',\n",
       "       'about_description', 'win_support', 'mac_support', 'linux_support',\n",
       "       'awards', 'overall_review', 'overall_review_%', 'overall_review_count',\n",
       "       'recent_review', 'recent_review_%', 'recent_review_count'],\n",
       "      dtype='object')"
      ]
     },
     "execution_count": 4,
     "metadata": {},
     "output_type": "execute_result"
    }
   ],
   "source": [
    "steamdb = pd.read_csv('steam-games.csv')\n",
    "steamdb_loja = steamdb[['app_id', 'name', 'release_date', 'genres', 'developer', 'publisher', 'price', 'categories']]"
   ]
  }
 ],
 "metadata": {
  "kernelspec": {
   "display_name": "Python 3",
   "language": "python",
   "name": "python3"
  },
  "language_info": {
   "codemirror_mode": {
    "name": "ipython",
    "version": 3
   },
   "file_extension": ".py",
   "mimetype": "text/x-python",
   "name": "python",
   "nbconvert_exporter": "python",
   "pygments_lexer": "ipython3",
   "version": "3.11.4"
  }
 },
 "nbformat": 4,
 "nbformat_minor": 2
}
